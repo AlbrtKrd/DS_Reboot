{
 "cells": [
  {
   "cell_type": "code",
   "execution_count": null,
   "metadata": {},
   "outputs": [],
   "source": [
    "import requests\n",
    "import pandas as pd\n",
    "from tqdm import tqdm"
   ]
  },
  {
   "cell_type": "code",
   "execution_count": null,
   "metadata": {},
   "outputs": [],
   "source": [
    "url = 'https://xn--80az8a.xn--d1aqf.xn--p1ai/%D1%81%D0%B5%D1%80%D0%B2%D0%B8%D1%81%D1%8B/api/kn/object?offset=0&limit=0&sortField=devId.devShortCleanNm&sortType=asc&objStatus=0'\n",
    "total = requests.get(url).json().get('data').get('total')"
   ]
  },
  {
   "cell_type": "code",
   "execution_count": null,
   "metadata": {},
   "outputs": [],
   "source": [
    "url = 'https://xn--80az8a.xn--d1aqf.xn--p1ai/%D1%81%D0%B5%D1%80%D0%B2%D0%B8%D1%81%D1%8B/api/kn/object?offset=0&limit=0&sortField=devId.devShortCleanNm&sortType=asc&objStatus=0'\n",
    "total = requests.get(url).json().get('data').get('total')\n",
    "offset_ = 0\n",
    "limit_ = 500\n",
    "pd_list=[]\n",
    "while total > offset_:\n",
    "    url = f'https://xn--80az8a.xn--d1aqf.xn--p1ai/%D1%81%D0%B5%D1%80%D0%B2%D0%B8%D1%81%D1%8B/api/kn/object?offset={offset_}&limit={limit_}&sortField=devId.devShortCleanNm&sortType=asc&objStatus=0'\n",
    "    res = requests.get(url)\n",
    "    objects_data = res.json()\n",
    "    objects_data.get('data').get('list')\n",
    "    offset_ += 500\n",
    "    print(offset_)\n",
    "    pd_list += objects_data.get('data').get('list')\n"
   ]
  },
  {
   "cell_type": "code",
   "execution_count": 89,
   "metadata": {},
   "outputs": [
    {
     "name": "stderr",
     "output_type": "stream",
     "text": [
      "100%|██████████| 11675/11675 [55:40<00:00,  3.50it/s] \n"
     ]
    }
   ],
   "source": [
    "to_pd=[]\n",
    "for i in tqdm(pd_list):\n",
    "    url = f\"https://xn--80az8a.xn--d1aqf.xn--p1ai/%D1%81%D0%B5%D1%80%D0%B2%D0%B8%D1%81%D1%8B/api/object/{i.get('objId')}\"\n",
    "    to_pd.append(requests.get(url).json().get('data'))"
   ]
  },
  {
   "cell_type": "code",
   "execution_count": 94,
   "metadata": {},
   "outputs": [],
   "source": [
    "df=pd.json_normalize(to_pd)"
   ]
  },
  {
   "cell_type": "code",
   "execution_count": 96,
   "metadata": {},
   "outputs": [],
   "source": [
    "df.to_excel('lesson_2.xlsx',index=False)"
   ]
  },
  {
   "cell_type": "code",
   "execution_count": null,
   "metadata": {},
   "outputs": [],
   "source": [
    "for i in tqdm(range(len(pd_list))):\n",
    "    id_ = pd_list[i].get('hobjId')\n",
    "    photo = requests.get(pd_list[i].get('hobjRenderPhotoUrl'))\n",
    "    out = open(f\"D:\\DS_Learn\\DS_Reboot\\lesson_2\\Photo\\{id_}_img.jpg\", \"wb\")\n",
    "    out.write(photo.content)\n",
    "    out.close()"
   ]
  }
 ],
 "metadata": {
  "kernelspec": {
   "display_name": "Python 3",
   "language": "python",
   "name": "python3"
  },
  "language_info": {
   "codemirror_mode": {
    "name": "ipython",
    "version": 3
   },
   "file_extension": ".py",
   "mimetype": "text/x-python",
   "name": "python",
   "nbconvert_exporter": "python",
   "pygments_lexer": "ipython3",
   "version": "3.11.5"
  }
 },
 "nbformat": 4,
 "nbformat_minor": 2
}
